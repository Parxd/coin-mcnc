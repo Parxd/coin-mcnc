{
 "cells": [
  {
   "cell_type": "code",
   "execution_count": null,
   "metadata": {},
   "outputs": [],
   "source": [
    "import torch\n",
    "import matplotlib.pyplot as plt"
   ]
  },
  {
   "cell_type": "code",
   "execution_count": null,
   "metadata": {},
   "outputs": [],
   "source": [
    "D = 3  # 2-sphere\n",
    "K = 1  # 1-dimensional manifold\n",
    "L = 5  # Uniform[-L, L] distribution\n",
    "B = 4_096  # sampling batch size"
   ]
  },
  {
   "cell_type": "code",
   "execution_count": null,
   "metadata": {},
   "outputs": [],
   "source": [
    "source_dist = torch.distributions.uniform.Uniform(-L, L)\n",
    "target_dist = torch.distributions.normal.Normal(0, 1)"
   ]
  },
  {
   "cell_type": "markdown",
   "metadata": {},
   "source": [
    "Let's visualize the target distribution samples $\\sim \\mathcal{U}(S^{D - 1})$."
   ]
  },
  {
   "cell_type": "code",
   "execution_count": null,
   "metadata": {},
   "outputs": [],
   "source": [
    "target_test = torch.nn.functional.normalize(target_dist.sample((B, D)), p=2).numpy()\n",
    "\n",
    "fig = plt.figure(figsize=(12, 8))\n",
    "ax = fig.add_subplot(111, projection='3d')\n",
    "ax.scatter(target_test[:, 0], target_test[:, 1], target_test[:, 2], c='blue', alpha=0.2, s=10)\n",
    "ax.set_xlim([-1, 1])\n",
    "ax.set_ylim([-1, 1])\n",
    "ax.set_zlim([-1, 1])\n",
    "plt.show()"
   ]
  },
  {
   "cell_type": "markdown",
   "metadata": {},
   "source": [
    "## $\\phi$ : Vanilla Generative Adversarial Framework"
   ]
  },
  {
   "cell_type": "code",
   "execution_count": null,
   "metadata": {},
   "outputs": [],
   "source": [
    "class Phi(torch.nn.Module):\n",
    "    def __init__(self, omega=1.0, *args, **kwargs):\n",
    "        super().__init__(*args, **kwargs)\n",
    "        self.omega = omega\n",
    "        self.fc1 = torch.nn.Linear(K, 256)\n",
    "        self.fc2 = torch.nn.Linear(256, 256)\n",
    "        self.fc3 = torch.nn.Linear(256, 256)\n",
    "        self.fc4 = torch.nn.Linear(256, D)\n",
    "\n",
    "    def forward(self, X):\n",
    "        X = self.fc1(X)\n",
    "        X = torch.sin(30 * X)\n",
    "        X = self.fc2(X)\n",
    "        X = torch.sin(self.omega * X)\n",
    "        X = self.fc3(X)\n",
    "        X = torch.sin(self.omega * X)\n",
    "        X = self.fc4(X)\n",
    "        return X"
   ]
  },
  {
   "cell_type": "code",
   "execution_count": null,
   "metadata": {},
   "outputs": [],
   "source": [
    "class Discriminator(torch.nn.Module):\n",
    "    def __init__(self, omega=1, *args, **kwargs):\n",
    "        super().__init__(*args, **kwargs)\n",
    "        self.omega = omega\n",
    "        self.fc1 = torch.nn.Linear(D, 256)\n",
    "        self.fc2 = torch.nn.Linear(256, 256)\n",
    "        self.fc3 = torch.nn.Linear(256, 256)\n",
    "        self.fc4 = torch.nn.Linear(256, 1)\n",
    "\n",
    "    def forward(self, X):\n",
    "        X = self.fc1(X)\n",
    "        X = torch.sin(30 * X)\n",
    "        X = self.fc2(X)\n",
    "        X = torch.sin(self.omega * X)\n",
    "        X = self.fc3(X)\n",
    "        X = torch.sin(self.omega * X)\n",
    "        X = self.fc4(X)\n",
    "        return X"
   ]
  },
  {
   "cell_type": "code",
   "execution_count": null,
   "metadata": {},
   "outputs": [],
   "source": [
    "LR = 1e-4\n",
    "EPOCHS = 250\n",
    "D_ITERATIONS = 10\n",
    "G_ITERATIONS = 5"
   ]
  },
  {
   "cell_type": "code",
   "execution_count": null,
   "metadata": {},
   "outputs": [],
   "source": [
    "generator = Phi().to('cuda')\n",
    "critic = Discriminator().to('cuda')\n",
    "\n",
    "gen_optimizer = torch.optim.Adam(generator.parameters(), lr=LR)\n",
    "critic_optimizer = torch.optim.Adam(critic.parameters(), lr=LR)\n",
    "criterion = torch.nn.BCEWithLogitsLoss()"
   ]
  },
  {
   "cell_type": "code",
   "execution_count": null,
   "metadata": {},
   "outputs": [],
   "source": [
    "source_samples = source_dist.sample((B, K)).to('cuda')\n",
    "target_samples = torch.nn.functional.normalize(target_dist.sample((B, D)), p=2).to('cuda')\n",
    "\n",
    "one_labels = torch.ones(B, 1).to('cuda')\n",
    "zero_labels = torch.zeros(B, 1).to('cuda')"
   ]
  },
  {
   "cell_type": "code",
   "execution_count": null,
   "metadata": {},
   "outputs": [],
   "source": [
    "for epoch in range(EPOCHS):\n",
    "    for _ in range(D_ITERATIONS):\n",
    "        target_fwd = critic(target_samples)\n",
    "        target_err = criterion(target_fwd, one_labels)\n",
    "        \n",
    "        phi = generator(source_samples)\n",
    "        source_fwd = critic(phi)\n",
    "        source_err = criterion(source_fwd, zero_labels)\n",
    "\n",
    "        critic_loss = target_err + source_err\n",
    "        critic_loss.backward()\n",
    "        critic_optimizer.step()\n",
    "        critic_optimizer.zero_grad()\n",
    "    for _ in range(G_ITERATIONS):\n",
    "        phi = generator(source_samples)\n",
    "        source_fwd = critic(phi)\n",
    "        gen_loss = criterion(source_fwd, one_labels)\n",
    "        \n",
    "        gen_loss.backward()\n",
    "        gen_optimizer.step()\n",
    "        gen_optimizer.zero_grad()\n",
    "\n",
    "    print(f\"Epoch {epoch + 1} | Critic Loss: {critic_loss.item():.5f} | Phi Loss: {gen_loss.item():.5f}\")"
   ]
  },
  {
   "cell_type": "markdown",
   "metadata": {},
   "source": [
    "The vanilla GAN for $\\phi : \\mathcal{U}[-L, L] \\rightarrow \\mathcal{U}(S^{d-1})$ is nowhere near accurate, even for a trivial problem like $d = 3$."
   ]
  },
  {
   "cell_type": "code",
   "execution_count": null,
   "metadata": {},
   "outputs": [],
   "source": [
    "data = source_dist.sample((10000, K)).to('cuda')\n",
    "manifold = generator(data).cpu().detach()\n",
    "\n",
    "fig = plt.figure(figsize=(12, 8))\n",
    "ax = fig.add_subplot(111, projection='3d')\n",
    "ax.scatter(manifold.numpy()[:, 0], manifold.numpy()[:, 1], manifold.numpy()[:, 2], c='blue', alpha=0.1, s=10)\n",
    "plt.show()"
   ]
  },
  {
   "cell_type": "markdown",
   "metadata": {},
   "source": [
    "## $\\phi$ : Sliced Wasserstein (SW)"
   ]
  },
  {
   "cell_type": "markdown",
   "metadata": {},
   "source": [
    "### Discriminator-less SW-Generator"
   ]
  },
  {
   "cell_type": "markdown",
   "metadata": {},
   "source": [
    "In the paper *Generative Modeling using the Sliced Wasserstein Distance* by Despande *et al.*, the authors propose a Sliced Wasserstein generative model that does not use an adversarial training framework. Instead, the generator network $G$ directly optimizes the Sliced Wasserstein distance between $\\mathcal{P}_d$ and $G_{\\theta}(\\mathcal{P}_z)$ (Section 3)."
   ]
  },
  {
   "cell_type": "code",
   "execution_count": null,
   "metadata": {},
   "outputs": [],
   "source": [
    "class SlicedWasserstein(torch.nn.Module):\n",
    "    def __init__(self, slices: int, *args, **kwargs):\n",
    "        super().__init__(*args, **kwargs)\n",
    "        self.slices = slices\n",
    "\n",
    "    def forward(self, source, target):\n",
    "        L = 0\n",
    "        F_proj = torch.nn.functional.normalize(torch.rand(self.slices, source.shape[1]), p=2)\n",
    "        D_proj = torch.nn.functional.normalize(torch.rand(self.slices, target.shape[1]), p=2)\n",
    "        F_sigma = torch.sort(torch.inner(source, F_proj), dim=0).values\n",
    "        D_sigma = torch.sort(torch.inner(target, D_proj), dim=0).values\n",
    "        increment = torch.square(torch.norm(D_sigma - F_sigma, p=2, dim=0)) / target.shape[0]\n",
    "        L += torch.sum(increment)\n",
    "        return L"
   ]
  },
  {
   "cell_type": "markdown",
   "metadata": {},
   "source": [
    "### SW-Generative Adversarial Framework"
   ]
  },
  {
   "cell_type": "markdown",
   "metadata": {},
   "source": []
  }
 ],
 "metadata": {
  "kernelspec": {
   "display_name": "venv",
   "language": "python",
   "name": "python3"
  },
  "language_info": {
   "codemirror_mode": {
    "name": "ipython",
    "version": 3
   },
   "file_extension": ".py",
   "mimetype": "text/x-python",
   "name": "python",
   "nbconvert_exporter": "python",
   "pygments_lexer": "ipython3",
   "version": "3.12.3"
  }
 },
 "nbformat": 4,
 "nbformat_minor": 2
}
