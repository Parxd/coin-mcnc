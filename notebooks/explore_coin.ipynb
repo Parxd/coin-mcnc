{
 "cells": [
  {
   "cell_type": "code",
   "execution_count": null,
   "metadata": {},
   "outputs": [],
   "source": [
    "import os\n",
    "import torch\n",
    "import torchvision\n",
    "import matplotlib.pyplot as plt"
   ]
  },
  {
   "cell_type": "code",
   "execution_count": null,
   "metadata": {},
   "outputs": [],
   "source": [
    "PATH = './data'\n",
    "N = len(os.listdir(PATH))\n",
    "C = 3\n",
    "H = 512\n",
    "W = 768"
   ]
  },
  {
   "cell_type": "code",
   "execution_count": null,
   "metadata": {},
   "outputs": [],
   "source": [
    "x_coord = torch.linspace(0, H - 1, H)\n",
    "y_coord = torch.linspace(0, W - 1, W)\n",
    "X = torch.cartesian_prod(x_coord, y_coord)\n",
    "y = torchvision.io.read_image('./data/kodim01.png')\n",
    "\n",
    "with torch.no_grad():\n",
    "    X = X.to(torch.float32)\n",
    "    X = X / (X.max() / 2) - 1\n",
    "    y = y.to(torch.float32)\n",
    "    y = y / y.max()"
   ]
  },
  {
   "cell_type": "code",
   "execution_count": null,
   "metadata": {},
   "outputs": [],
   "source": [
    "class COIN(torch.nn.Module):\n",
    "    def __init__(self, *args, **kwargs):\n",
    "        super().__init__(*args, **kwargs)\n",
    "        self.fc1 = torch.nn.Linear(2, 20)\n",
    "        self.fc2 = torch.nn.Linear(20, 20)\n",
    "        self.fc3 = torch.nn.Linear(20, 20)\n",
    "        self.fc4 = torch.nn.Linear(20, 20)\n",
    "        self.fc5 = torch.nn.Linear(20, 3)\n",
    "\n",
    "    def forward(self, X: torch.Tensor):\n",
    "        X = self.fc1(X)\n",
    "        X = torch.sin(X)\n",
    "        X = self.fc2(X)\n",
    "        X = torch.sin(X)\n",
    "        X = self.fc3(X)\n",
    "        X = torch.sin(X)\n",
    "        X = self.fc4(X)\n",
    "        X = torch.sin(X)\n",
    "        return self.fc5(X)"
   ]
  }
 ],
 "metadata": {
  "kernelspec": {
   "display_name": "venv",
   "language": "python",
   "name": "python3"
  },
  "language_info": {
   "codemirror_mode": {
    "name": "ipython",
    "version": 3
   },
   "file_extension": ".py",
   "mimetype": "text/x-python",
   "name": "python",
   "nbconvert_exporter": "python",
   "pygments_lexer": "ipython3",
   "version": "3.12.3"
  }
 },
 "nbformat": 4,
 "nbformat_minor": 2
}
